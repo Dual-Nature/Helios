{
 "cells": [
  {
   "cell_type": "markdown",
   "id": "geological-group",
   "metadata": {},
   "source": [
    "# Distributed Element Model (Abstraction)"
   ]
  },
  {
   "cell_type": "markdown",
   "id": "middle-ottawa",
   "metadata": {},
   "source": [
    "For now, we directly jump to transmission line, all other areas content of this abstraction layer will be explained later."
   ]
  },
  {
   "cell_type": "code",
   "execution_count": 2,
   "id": "circular-procurement",
   "metadata": {},
   "outputs": [],
   "source": [
    "# imorting all libraries\n",
    "import math\n",
    "import numpy as np"
   ]
  },
  {
   "cell_type": "markdown",
   "id": "alert-import",
   "metadata": {},
   "source": [
    "As transmission line is a conductor."
   ]
  },
  {
   "cell_type": "code",
   "execution_count": 7,
   "id": "refined-authentication",
   "metadata": {},
   "outputs": [],
   "source": [
    "class Conductor:\n",
    "    mew = 4*math.pi*(10**(-7))\n",
    "    \n",
    "    def internalInductance(self):\n",
    "        return self.mew / 8 * math.pi"
   ]
  },
  {
   "cell_type": "code",
   "execution_count": 8,
   "id": "basic-tennessee",
   "metadata": {},
   "outputs": [],
   "source": []
  }
 ],
 "metadata": {
  "kernelspec": {
   "display_name": "Python 3",
   "language": "python",
   "name": "python3"
  },
  "language_info": {
   "codemirror_mode": {
    "name": "ipython",
    "version": 3
   },
   "file_extension": ".py",
   "mimetype": "text/x-python",
   "name": "python",
   "nbconvert_exporter": "python",
   "pygments_lexer": "ipython3",
   "version": "3.8.5"
  }
 },
 "nbformat": 4,
 "nbformat_minor": 5
}
